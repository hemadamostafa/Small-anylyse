{
 "cells": [
  {
   "cell_type": "code",
   "execution_count": 133,
   "id": "26e608d7-13ba-47ef-ab1b-7c65e2dc0e8b",
   "metadata": {},
   "outputs": [],
   "source": [
    "import random\n",
    "books_database = {\n",
    "    \"Action\": [\n",
    "        \"The Bourne Identity\", \"The Hunger Games\", \"Die Hard: Year One\",\n",
    "        \"The Hunt for Red October\", \"The Maze Runner\", \"Casino Royale\",\n",
    "        \"The Da Vinci Code\", \"Jurassic Park\", \"The Dark Knight Returns\",\n",
    "        \"The Guns of Navarone\", \"Indiana Jones and the Raiders of the Lost Ark\",\n",
    "        \"The Stand\", \"Ready Player One\", \"The Martian\", \"World War Z\",\n",
    "        \"I Am Legend\", \"Rambo: First Blood\", \"The Jack Reacher series\",\n",
    "        \"The Dirk Pitt Adventures\", \"The Sigma Force series\"\n",
    "    ],\n",
    "    \"Drama\": [\n",
    "        \"To Kill a Mockingbird\", \"The Great Gatsby\", \"Pride and Prejudice\",\n",
    "        \"Of Mice and Men\", \"The Catcher in the Rye\", \"The Kite Runner\",\n",
    "        \"A Thousand Splendid Suns\", \"The Road\", \"A Tree Grows in Brooklyn\",\n",
    "        \"Jane Eyre\", \"The Book Thief\", \"Little Women\", \"The Fault in Our Stars\",\n",
    "        \"A Man Called Ove\", \"The Nightingale\", \"All the Light We Cannot See\",\n",
    "        \"Room\", \"Beloved\", \"The Alchemist\", \"The Help\"\n",
    "    ],\n",
    "    \"Mystery\": [\n",
    "        \"Gone Girl\", \"The Girl with the Dragon Tattoo\", \"The Da Vinci Code\",\n",
    "        \"The Hound of the Baskervilles\", \"The Big Sleep\",\n",
    "        \"Murder on the Orient Express\", \"In the Woods\", \"The Silent Patient\",\n",
    "        \"The Woman in White\", \"The No. 1 Ladies' Detective Agency\",\n",
    "        \"The Secret History\", \"Big Little Lies\", \"Sharp Objects\",\n",
    "        \"The Woman in the Window\", \"The Cuckoo's Calling\", \"Rebecca\",\n",
    "        \"The Girl on the Train\", \"Before I Go to Sleep\", \"The Name of the Rose\",\n",
    "        \"The Maltese Falcon\"\n",
    "    ],\n",
    "    \"Romance\": [\n",
    "        \"Pride and Prejudice\", \"The Notebook\", \"Me Before You\", \"Outlander\",\n",
    "        \"The Time Traveler's Wife\", \"Bridget Jones's Diary\", \"Gone with the Wind\",\n",
    "        \"Jane Eyre\", \"Anna Karenina\", \"The Fault in Our Stars\",\n",
    "        \"The Rosie Project\", \"Beautiful Disaster\", \"The Hating Game\",\n",
    "        \"Eleanor & Park\", \"P.S. I Love You\", \"The Wedding Date\",\n",
    "        \"The Kiss Quotient\", \"Twilight\", \"Red, White & Royal Blue\", \"The Duke and I\"\n",
    "    ],\n",
    "    \"Historical\": [\n",
    "        \"All the Light We Cannot See\", \"The Book Thief\", \"The Nightingale\",\n",
    "        \"Outlander\", \"The Pillars of the Earth\", \"Gone with the Wind\",\n",
    "        \"A Tale of Two Cities\", \"War and Peace\", \"The Other Boleyn Girl\",\n",
    "        \"The Kite Runner\", \"Memoirs of a Geisha\", \"The Help\", \"The Paris Wife\",\n",
    "        \"Wolf Hall\", \"Schindler's List\", \"The Bronze Horseman\", \"The Alice Network\",\n",
    "        \"Girl with a Pearl Earring\", \"The Underground Railroad\", \"Beloved\"\n",
    "    ]\n",
    "}\n"
   ]
  },
  {
   "cell_type": "code",
   "execution_count": 134,
   "id": "4c3b0066-45cf-4f93-be30-47216948c4bb",
   "metadata": {},
   "outputs": [],
   "source": [
    "user_read_books = [\"The Hunger Games\", \"Pride and Prejudice\", \"The Da Vinci Code\", \"The Nightingale\"]"
   ]
  },
  {
   "cell_type": "code",
   "execution_count": 135,
   "id": "ed0cb5c9-50bc-4069-8126-d852d1965a01",
   "metadata": {},
   "outputs": [],
   "source": [
    "def analyse_user(user_books):\n",
    "    #first we gonna search for the category of the book\n",
    "    categories = []\n",
    "    break_sign = False;\n",
    "    for book in user_books: # \"The Hunger Games\", \"Pride and Prejudice\", \"The Da Vinci Code\", \"The Nightingale\"\n",
    "        for category in books_database: # Drama, Action, Mystery, Romance, Historical 5 rounds\n",
    "            if(break_sign):\n",
    "                break_sign = False\n",
    "                break\n",
    "            for book_in_categ in books_database[category]: #\"To Kill a Mockingbird\", \"The Great Gatsby\", \"Pride and Prejudice\", \n",
    "                if(book_in_categ == book):\n",
    "                    categories.append(category)\n",
    "                    break_sign = True;\n",
    "                    break\n",
    "    return categories;"
   ]
  },
  {
   "cell_type": "code",
   "execution_count": 136,
   "id": "32e4cc67-76e4-4459-9843-b78aa1e67dfd",
   "metadata": {},
   "outputs": [
    {
     "data": {
      "text/plain": [
       "['Action', 'Drama', 'Action', 'Drama']"
      ]
     },
     "execution_count": 136,
     "metadata": {},
     "output_type": "execute_result"
    }
   ],
   "source": [
    "User_Favourite_category = analyse_user(user_read_books)\n",
    "analyse_user(user_read_books)"
   ]
  },
  {
   "cell_type": "code",
   "execution_count": 139,
   "id": "efa2d086-e4c4-47e7-935a-12ff09755100",
   "metadata": {},
   "outputs": [],
   "source": [
    "def Suggest(User_Favourite_category):\n",
    "    Many_Categ = len(User_Favourite_category)\n",
    "    favourite_category = random.randint(0, Many_Categ-1)\n",
    "    Many_books_in_this_categ = len(books_database[User_Favourite_category[favourite_category]])\n",
    "    return books_database[User_Favourite_category[favourite_category]][random.randint(0,Many_books_in_this_categ)-1]"
   ]
  },
  {
   "cell_type": "code",
   "execution_count": 153,
   "id": "7ef93947-730d-4561-94a0-2c2c0b9e7a73",
   "metadata": {},
   "outputs": [
    {
     "data": {
      "text/plain": [
       "'The Fault in Our Stars'"
      ]
     },
     "execution_count": 153,
     "metadata": {},
     "output_type": "execute_result"
    }
   ],
   "source": [
    "Suggest(User_Favourite_category)"
   ]
  }
 ],
 "metadata": {
  "kernelspec": {
   "display_name": "Python 3 (ipykernel)",
   "language": "python",
   "name": "python3"
  },
  "language_info": {
   "codemirror_mode": {
    "name": "ipython",
    "version": 3
   },
   "file_extension": ".py",
   "mimetype": "text/x-python",
   "name": "python",
   "nbconvert_exporter": "python",
   "pygments_lexer": "ipython3",
   "version": "3.11.7"
  }
 },
 "nbformat": 4,
 "nbformat_minor": 5
}
